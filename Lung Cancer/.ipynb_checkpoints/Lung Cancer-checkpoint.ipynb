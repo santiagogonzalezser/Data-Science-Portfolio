{
 "cells": [
  {
   "cell_type": "markdown",
   "id": "e1c41d14",
   "metadata": {},
   "source": [
    "# Lung Cancer Decision Tree"
   ]
  },
  {
   "cell_type": "markdown",
   "id": "7122016f",
   "metadata": {},
   "source": [
    "Using the Lung Cancer dataset from Kaggle, my goal is to create a Decision Tree classification model that can predict whether a patient has lung cancer based on the features present on the dataset."
   ]
  },
  {
   "cell_type": "code",
   "execution_count": 75,
   "id": "1b2c8621",
   "metadata": {},
   "outputs": [],
   "source": [
    "import pandas as pd\n",
    "import numpy as np\n",
    "import matplotlib.pyplot as plt\n",
    "import seaborn as sns"
   ]
  },
  {
   "cell_type": "code",
   "execution_count": 76,
   "id": "0fbdcd23",
   "metadata": {},
   "outputs": [],
   "source": [
    "df = pd.read_json('dataset.json')"
   ]
  },
  {
   "cell_type": "code",
   "execution_count": 77,
   "id": "c309adf8",
   "metadata": {},
   "outputs": [
    {
     "data": {
      "text/html": [
       "<div>\n",
       "<style scoped>\n",
       "    .dataframe tbody tr th:only-of-type {\n",
       "        vertical-align: middle;\n",
       "    }\n",
       "\n",
       "    .dataframe tbody tr th {\n",
       "        vertical-align: top;\n",
       "    }\n",
       "\n",
       "    .dataframe thead th {\n",
       "        text-align: right;\n",
       "    }\n",
       "</style>\n",
       "<table border=\"1\" class=\"dataframe\">\n",
       "  <thead>\n",
       "    <tr style=\"text-align: right;\">\n",
       "      <th></th>\n",
       "      <th>GENDER</th>\n",
       "      <th>AGE</th>\n",
       "      <th>SMOKING</th>\n",
       "      <th>YELLOW_FINGERS</th>\n",
       "      <th>ANXIETY</th>\n",
       "      <th>PEER_PRESSURE</th>\n",
       "      <th>CHRONIC_DISEASE</th>\n",
       "      <th>FATIGUE</th>\n",
       "      <th>ALLERGY</th>\n",
       "      <th>WHEEZING</th>\n",
       "      <th>ALCOHOL_CONSUMING</th>\n",
       "      <th>COUGHING</th>\n",
       "      <th>SHORTNESS_OF_BREATH</th>\n",
       "      <th>SWALLOWING_DIFFICULTY</th>\n",
       "      <th>CHEST_PAIN</th>\n",
       "      <th>LUNG_CANCER</th>\n",
       "    </tr>\n",
       "  </thead>\n",
       "  <tbody>\n",
       "    <tr>\n",
       "      <th>0</th>\n",
       "      <td>M</td>\n",
       "      <td>65</td>\n",
       "      <td>1</td>\n",
       "      <td>1</td>\n",
       "      <td>1</td>\n",
       "      <td>2</td>\n",
       "      <td>2</td>\n",
       "      <td>1</td>\n",
       "      <td>2</td>\n",
       "      <td>2</td>\n",
       "      <td>2</td>\n",
       "      <td>2</td>\n",
       "      <td>2</td>\n",
       "      <td>2</td>\n",
       "      <td>1</td>\n",
       "      <td>NO</td>\n",
       "    </tr>\n",
       "    <tr>\n",
       "      <th>1</th>\n",
       "      <td>F</td>\n",
       "      <td>55</td>\n",
       "      <td>1</td>\n",
       "      <td>2</td>\n",
       "      <td>2</td>\n",
       "      <td>1</td>\n",
       "      <td>1</td>\n",
       "      <td>2</td>\n",
       "      <td>2</td>\n",
       "      <td>2</td>\n",
       "      <td>1</td>\n",
       "      <td>1</td>\n",
       "      <td>1</td>\n",
       "      <td>2</td>\n",
       "      <td>2</td>\n",
       "      <td>NO</td>\n",
       "    </tr>\n",
       "    <tr>\n",
       "      <th>2</th>\n",
       "      <td>F</td>\n",
       "      <td>78</td>\n",
       "      <td>2</td>\n",
       "      <td>2</td>\n",
       "      <td>1</td>\n",
       "      <td>1</td>\n",
       "      <td>1</td>\n",
       "      <td>2</td>\n",
       "      <td>1</td>\n",
       "      <td>2</td>\n",
       "      <td>1</td>\n",
       "      <td>1</td>\n",
       "      <td>2</td>\n",
       "      <td>1</td>\n",
       "      <td>1</td>\n",
       "      <td>YES</td>\n",
       "    </tr>\n",
       "    <tr>\n",
       "      <th>3</th>\n",
       "      <td>M</td>\n",
       "      <td>60</td>\n",
       "      <td>2</td>\n",
       "      <td>1</td>\n",
       "      <td>1</td>\n",
       "      <td>1</td>\n",
       "      <td>2</td>\n",
       "      <td>1</td>\n",
       "      <td>2</td>\n",
       "      <td>1</td>\n",
       "      <td>1</td>\n",
       "      <td>2</td>\n",
       "      <td>1</td>\n",
       "      <td>2</td>\n",
       "      <td>2</td>\n",
       "      <td>YES</td>\n",
       "    </tr>\n",
       "    <tr>\n",
       "      <th>4</th>\n",
       "      <td>F</td>\n",
       "      <td>80</td>\n",
       "      <td>1</td>\n",
       "      <td>1</td>\n",
       "      <td>2</td>\n",
       "      <td>1</td>\n",
       "      <td>1</td>\n",
       "      <td>2</td>\n",
       "      <td>1</td>\n",
       "      <td>2</td>\n",
       "      <td>1</td>\n",
       "      <td>1</td>\n",
       "      <td>1</td>\n",
       "      <td>1</td>\n",
       "      <td>2</td>\n",
       "      <td>NO</td>\n",
       "    </tr>\n",
       "  </tbody>\n",
       "</table>\n",
       "</div>"
      ],
      "text/plain": [
       "  GENDER  AGE  SMOKING  YELLOW_FINGERS  ANXIETY  PEER_PRESSURE  \\\n",
       "0      M   65        1               1        1              2   \n",
       "1      F   55        1               2        2              1   \n",
       "2      F   78        2               2        1              1   \n",
       "3      M   60        2               1        1              1   \n",
       "4      F   80        1               1        2              1   \n",
       "\n",
       "   CHRONIC_DISEASE  FATIGUE  ALLERGY  WHEEZING  ALCOHOL_CONSUMING  COUGHING  \\\n",
       "0                2        1        2         2                  2         2   \n",
       "1                1        2        2         2                  1         1   \n",
       "2                1        2        1         2                  1         1   \n",
       "3                2        1        2         1                  1         2   \n",
       "4                1        2        1         2                  1         1   \n",
       "\n",
       "   SHORTNESS_OF_BREATH  SWALLOWING_DIFFICULTY  CHEST_PAIN LUNG_CANCER  \n",
       "0                    2                      2           1          NO  \n",
       "1                    1                      2           2          NO  \n",
       "2                    2                      1           1         YES  \n",
       "3                    1                      2           2         YES  \n",
       "4                    1                      1           2          NO  "
      ]
     },
     "execution_count": 77,
     "metadata": {},
     "output_type": "execute_result"
    }
   ],
   "source": [
    "df.head()"
   ]
  },
  {
   "cell_type": "code",
   "execution_count": 78,
   "id": "c111b953",
   "metadata": {},
   "outputs": [
    {
     "name": "stdout",
     "output_type": "stream",
     "text": [
      "<class 'pandas.core.frame.DataFrame'>\n",
      "RangeIndex: 3000 entries, 0 to 2999\n",
      "Data columns (total 16 columns):\n",
      " #   Column                 Non-Null Count  Dtype \n",
      "---  ------                 --------------  ----- \n",
      " 0   GENDER                 3000 non-null   object\n",
      " 1   AGE                    3000 non-null   int64 \n",
      " 2   SMOKING                3000 non-null   int64 \n",
      " 3   YELLOW_FINGERS         3000 non-null   int64 \n",
      " 4   ANXIETY                3000 non-null   int64 \n",
      " 5   PEER_PRESSURE          3000 non-null   int64 \n",
      " 6   CHRONIC_DISEASE        3000 non-null   int64 \n",
      " 7   FATIGUE                3000 non-null   int64 \n",
      " 8   ALLERGY                3000 non-null   int64 \n",
      " 9   WHEEZING               3000 non-null   int64 \n",
      " 10  ALCOHOL_CONSUMING      3000 non-null   int64 \n",
      " 11  COUGHING               3000 non-null   int64 \n",
      " 12  SHORTNESS_OF_BREATH    3000 non-null   int64 \n",
      " 13  SWALLOWING_DIFFICULTY  3000 non-null   int64 \n",
      " 14  CHEST_PAIN             3000 non-null   int64 \n",
      " 15  LUNG_CANCER            3000 non-null   object\n",
      "dtypes: int64(14), object(2)\n",
      "memory usage: 375.1+ KB\n"
     ]
    }
   ],
   "source": [
    "df.info()"
   ]
  },
  {
   "cell_type": "code",
   "execution_count": 79,
   "id": "b2f215e1",
   "metadata": {},
   "outputs": [],
   "source": [
    "df['LUNG_CANCER'] = df['LUNG_CANCER'].map({'YES': 1, 'NO': 0})"
   ]
  },
  {
   "cell_type": "code",
   "execution_count": 80,
   "id": "60d7a018",
   "metadata": {},
   "outputs": [
    {
     "data": {
      "text/html": [
       "<div>\n",
       "<style scoped>\n",
       "    .dataframe tbody tr th:only-of-type {\n",
       "        vertical-align: middle;\n",
       "    }\n",
       "\n",
       "    .dataframe tbody tr th {\n",
       "        vertical-align: top;\n",
       "    }\n",
       "\n",
       "    .dataframe thead th {\n",
       "        text-align: right;\n",
       "    }\n",
       "</style>\n",
       "<table border=\"1\" class=\"dataframe\">\n",
       "  <thead>\n",
       "    <tr style=\"text-align: right;\">\n",
       "      <th></th>\n",
       "      <th>GENDER</th>\n",
       "      <th>AGE</th>\n",
       "      <th>SMOKING</th>\n",
       "      <th>YELLOW_FINGERS</th>\n",
       "      <th>ANXIETY</th>\n",
       "      <th>PEER_PRESSURE</th>\n",
       "      <th>CHRONIC_DISEASE</th>\n",
       "      <th>FATIGUE</th>\n",
       "      <th>ALLERGY</th>\n",
       "      <th>WHEEZING</th>\n",
       "      <th>ALCOHOL_CONSUMING</th>\n",
       "      <th>COUGHING</th>\n",
       "      <th>SHORTNESS_OF_BREATH</th>\n",
       "      <th>SWALLOWING_DIFFICULTY</th>\n",
       "      <th>CHEST_PAIN</th>\n",
       "      <th>LUNG_CANCER</th>\n",
       "    </tr>\n",
       "  </thead>\n",
       "  <tbody>\n",
       "    <tr>\n",
       "      <th>0</th>\n",
       "      <td>M</td>\n",
       "      <td>65</td>\n",
       "      <td>1</td>\n",
       "      <td>1</td>\n",
       "      <td>1</td>\n",
       "      <td>2</td>\n",
       "      <td>2</td>\n",
       "      <td>1</td>\n",
       "      <td>2</td>\n",
       "      <td>2</td>\n",
       "      <td>2</td>\n",
       "      <td>2</td>\n",
       "      <td>2</td>\n",
       "      <td>2</td>\n",
       "      <td>1</td>\n",
       "      <td>0</td>\n",
       "    </tr>\n",
       "    <tr>\n",
       "      <th>1</th>\n",
       "      <td>F</td>\n",
       "      <td>55</td>\n",
       "      <td>1</td>\n",
       "      <td>2</td>\n",
       "      <td>2</td>\n",
       "      <td>1</td>\n",
       "      <td>1</td>\n",
       "      <td>2</td>\n",
       "      <td>2</td>\n",
       "      <td>2</td>\n",
       "      <td>1</td>\n",
       "      <td>1</td>\n",
       "      <td>1</td>\n",
       "      <td>2</td>\n",
       "      <td>2</td>\n",
       "      <td>0</td>\n",
       "    </tr>\n",
       "    <tr>\n",
       "      <th>2</th>\n",
       "      <td>F</td>\n",
       "      <td>78</td>\n",
       "      <td>2</td>\n",
       "      <td>2</td>\n",
       "      <td>1</td>\n",
       "      <td>1</td>\n",
       "      <td>1</td>\n",
       "      <td>2</td>\n",
       "      <td>1</td>\n",
       "      <td>2</td>\n",
       "      <td>1</td>\n",
       "      <td>1</td>\n",
       "      <td>2</td>\n",
       "      <td>1</td>\n",
       "      <td>1</td>\n",
       "      <td>1</td>\n",
       "    </tr>\n",
       "    <tr>\n",
       "      <th>3</th>\n",
       "      <td>M</td>\n",
       "      <td>60</td>\n",
       "      <td>2</td>\n",
       "      <td>1</td>\n",
       "      <td>1</td>\n",
       "      <td>1</td>\n",
       "      <td>2</td>\n",
       "      <td>1</td>\n",
       "      <td>2</td>\n",
       "      <td>1</td>\n",
       "      <td>1</td>\n",
       "      <td>2</td>\n",
       "      <td>1</td>\n",
       "      <td>2</td>\n",
       "      <td>2</td>\n",
       "      <td>1</td>\n",
       "    </tr>\n",
       "    <tr>\n",
       "      <th>4</th>\n",
       "      <td>F</td>\n",
       "      <td>80</td>\n",
       "      <td>1</td>\n",
       "      <td>1</td>\n",
       "      <td>2</td>\n",
       "      <td>1</td>\n",
       "      <td>1</td>\n",
       "      <td>2</td>\n",
       "      <td>1</td>\n",
       "      <td>2</td>\n",
       "      <td>1</td>\n",
       "      <td>1</td>\n",
       "      <td>1</td>\n",
       "      <td>1</td>\n",
       "      <td>2</td>\n",
       "      <td>0</td>\n",
       "    </tr>\n",
       "  </tbody>\n",
       "</table>\n",
       "</div>"
      ],
      "text/plain": [
       "  GENDER  AGE  SMOKING  YELLOW_FINGERS  ANXIETY  PEER_PRESSURE  \\\n",
       "0      M   65        1               1        1              2   \n",
       "1      F   55        1               2        2              1   \n",
       "2      F   78        2               2        1              1   \n",
       "3      M   60        2               1        1              1   \n",
       "4      F   80        1               1        2              1   \n",
       "\n",
       "   CHRONIC_DISEASE  FATIGUE  ALLERGY  WHEEZING  ALCOHOL_CONSUMING  COUGHING  \\\n",
       "0                2        1        2         2                  2         2   \n",
       "1                1        2        2         2                  1         1   \n",
       "2                1        2        1         2                  1         1   \n",
       "3                2        1        2         1                  1         2   \n",
       "4                1        2        1         2                  1         1   \n",
       "\n",
       "   SHORTNESS_OF_BREATH  SWALLOWING_DIFFICULTY  CHEST_PAIN  LUNG_CANCER  \n",
       "0                    2                      2           1            0  \n",
       "1                    1                      2           2            0  \n",
       "2                    2                      1           1            1  \n",
       "3                    1                      2           2            1  \n",
       "4                    1                      1           2            0  "
      ]
     },
     "execution_count": 80,
     "metadata": {},
     "output_type": "execute_result"
    }
   ],
   "source": [
    "df.head()"
   ]
  },
  {
   "cell_type": "code",
   "execution_count": 81,
   "id": "db9de05f",
   "metadata": {},
   "outputs": [
    {
     "data": {
      "text/plain": [
       "Index(['GENDER', 'AGE', 'SMOKING', 'YELLOW_FINGERS', 'ANXIETY',\n",
       "       'PEER_PRESSURE', 'CHRONIC_DISEASE', 'FATIGUE', 'ALLERGY', 'WHEEZING',\n",
       "       'ALCOHOL_CONSUMING', 'COUGHING', 'SHORTNESS_OF_BREATH',\n",
       "       'SWALLOWING_DIFFICULTY', 'CHEST_PAIN', 'LUNG_CANCER'],\n",
       "      dtype='object')"
      ]
     },
     "execution_count": 81,
     "metadata": {},
     "output_type": "execute_result"
    }
   ],
   "source": [
    "df.columns"
   ]
  },
  {
   "cell_type": "code",
   "execution_count": 82,
   "id": "eabe3d15",
   "metadata": {},
   "outputs": [],
   "source": [
    "symptoms = ['SMOKING', 'YELLOW_FINGERS', 'ANXIETY',\n",
    "       'PEER_PRESSURE', 'CHRONIC_DISEASE', 'FATIGUE', 'ALLERGY', 'WHEEZING',\n",
    "       'ALCOHOL_CONSUMING', 'COUGHING', 'SHORTNESS_OF_BREATH',\n",
    "       'SWALLOWING_DIFFICULTY', 'CHEST_PAIN']\n",
    "binary = lambda x: 1 if x == 1 else 0"
   ]
  },
  {
   "cell_type": "code",
   "execution_count": 83,
   "id": "6e3e448c",
   "metadata": {},
   "outputs": [
    {
     "data": {
      "text/html": [
       "<div>\n",
       "<style scoped>\n",
       "    .dataframe tbody tr th:only-of-type {\n",
       "        vertical-align: middle;\n",
       "    }\n",
       "\n",
       "    .dataframe tbody tr th {\n",
       "        vertical-align: top;\n",
       "    }\n",
       "\n",
       "    .dataframe thead th {\n",
       "        text-align: right;\n",
       "    }\n",
       "</style>\n",
       "<table border=\"1\" class=\"dataframe\">\n",
       "  <thead>\n",
       "    <tr style=\"text-align: right;\">\n",
       "      <th></th>\n",
       "      <th>GENDER</th>\n",
       "      <th>AGE</th>\n",
       "      <th>SMOKING</th>\n",
       "      <th>YELLOW_FINGERS</th>\n",
       "      <th>ANXIETY</th>\n",
       "      <th>PEER_PRESSURE</th>\n",
       "      <th>CHRONIC_DISEASE</th>\n",
       "      <th>FATIGUE</th>\n",
       "      <th>ALLERGY</th>\n",
       "      <th>WHEEZING</th>\n",
       "      <th>ALCOHOL_CONSUMING</th>\n",
       "      <th>COUGHING</th>\n",
       "      <th>SHORTNESS_OF_BREATH</th>\n",
       "      <th>SWALLOWING_DIFFICULTY</th>\n",
       "      <th>CHEST_PAIN</th>\n",
       "      <th>LUNG_CANCER</th>\n",
       "    </tr>\n",
       "  </thead>\n",
       "  <tbody>\n",
       "    <tr>\n",
       "      <th>0</th>\n",
       "      <td>M</td>\n",
       "      <td>65</td>\n",
       "      <td>1</td>\n",
       "      <td>1</td>\n",
       "      <td>1</td>\n",
       "      <td>0</td>\n",
       "      <td>0</td>\n",
       "      <td>1</td>\n",
       "      <td>0</td>\n",
       "      <td>0</td>\n",
       "      <td>0</td>\n",
       "      <td>0</td>\n",
       "      <td>0</td>\n",
       "      <td>0</td>\n",
       "      <td>1</td>\n",
       "      <td>0</td>\n",
       "    </tr>\n",
       "    <tr>\n",
       "      <th>1</th>\n",
       "      <td>F</td>\n",
       "      <td>55</td>\n",
       "      <td>1</td>\n",
       "      <td>0</td>\n",
       "      <td>0</td>\n",
       "      <td>1</td>\n",
       "      <td>1</td>\n",
       "      <td>0</td>\n",
       "      <td>0</td>\n",
       "      <td>0</td>\n",
       "      <td>1</td>\n",
       "      <td>1</td>\n",
       "      <td>1</td>\n",
       "      <td>0</td>\n",
       "      <td>0</td>\n",
       "      <td>0</td>\n",
       "    </tr>\n",
       "    <tr>\n",
       "      <th>2</th>\n",
       "      <td>F</td>\n",
       "      <td>78</td>\n",
       "      <td>0</td>\n",
       "      <td>0</td>\n",
       "      <td>1</td>\n",
       "      <td>1</td>\n",
       "      <td>1</td>\n",
       "      <td>0</td>\n",
       "      <td>1</td>\n",
       "      <td>0</td>\n",
       "      <td>1</td>\n",
       "      <td>1</td>\n",
       "      <td>0</td>\n",
       "      <td>1</td>\n",
       "      <td>1</td>\n",
       "      <td>1</td>\n",
       "    </tr>\n",
       "    <tr>\n",
       "      <th>3</th>\n",
       "      <td>M</td>\n",
       "      <td>60</td>\n",
       "      <td>0</td>\n",
       "      <td>1</td>\n",
       "      <td>1</td>\n",
       "      <td>1</td>\n",
       "      <td>0</td>\n",
       "      <td>1</td>\n",
       "      <td>0</td>\n",
       "      <td>1</td>\n",
       "      <td>1</td>\n",
       "      <td>0</td>\n",
       "      <td>1</td>\n",
       "      <td>0</td>\n",
       "      <td>0</td>\n",
       "      <td>1</td>\n",
       "    </tr>\n",
       "    <tr>\n",
       "      <th>4</th>\n",
       "      <td>F</td>\n",
       "      <td>80</td>\n",
       "      <td>1</td>\n",
       "      <td>1</td>\n",
       "      <td>0</td>\n",
       "      <td>1</td>\n",
       "      <td>1</td>\n",
       "      <td>0</td>\n",
       "      <td>1</td>\n",
       "      <td>0</td>\n",
       "      <td>1</td>\n",
       "      <td>1</td>\n",
       "      <td>1</td>\n",
       "      <td>1</td>\n",
       "      <td>0</td>\n",
       "      <td>0</td>\n",
       "    </tr>\n",
       "  </tbody>\n",
       "</table>\n",
       "</div>"
      ],
      "text/plain": [
       "  GENDER  AGE  SMOKING  YELLOW_FINGERS  ANXIETY  PEER_PRESSURE  \\\n",
       "0      M   65        1               1        1              0   \n",
       "1      F   55        1               0        0              1   \n",
       "2      F   78        0               0        1              1   \n",
       "3      M   60        0               1        1              1   \n",
       "4      F   80        1               1        0              1   \n",
       "\n",
       "   CHRONIC_DISEASE  FATIGUE  ALLERGY  WHEEZING  ALCOHOL_CONSUMING  COUGHING  \\\n",
       "0                0        1        0         0                  0         0   \n",
       "1                1        0        0         0                  1         1   \n",
       "2                1        0        1         0                  1         1   \n",
       "3                0        1        0         1                  1         0   \n",
       "4                1        0        1         0                  1         1   \n",
       "\n",
       "   SHORTNESS_OF_BREATH  SWALLOWING_DIFFICULTY  CHEST_PAIN  LUNG_CANCER  \n",
       "0                    0                      0           1            0  \n",
       "1                    1                      0           0            0  \n",
       "2                    0                      1           1            1  \n",
       "3                    1                      0           0            1  \n",
       "4                    1                      1           0            0  "
      ]
     },
     "execution_count": 83,
     "metadata": {},
     "output_type": "execute_result"
    }
   ],
   "source": [
    "for column in symptoms:\n",
    "    df[column] = df[column].apply(binary)\n",
    "df.head()"
   ]
  },
  {
   "cell_type": "markdown",
   "id": "25313443",
   "metadata": {},
   "source": [
    "## Finding Associations"
   ]
  },
  {
   "cell_type": "code",
   "execution_count": 119,
   "id": "80a2f503",
   "metadata": {},
   "outputs": [],
   "source": [
    "cor_binary = df[symptoms + ['LUNG_CANCER']].corr()"
   ]
  },
  {
   "cell_type": "code",
   "execution_count": 120,
   "id": "ad1d9f5c",
   "metadata": {},
   "outputs": [
    {
     "data": {
      "text/plain": [
       "<AxesSubplot:>"
      ]
     },
     "execution_count": 120,
     "metadata": {},
     "output_type": "execute_result"
    },
    {
     "data": {
      "image/png": "[encoded data removed]",
      "text/plain": [
       "<Figure size 864x432 with 2 Axes>"
      ]
     },
     "metadata": {
      "needs_background": "light"
     },
     "output_type": "display_data"
    }
   ],
   "source": [
    "plt.figure(figsize=(12, 6))\n",
    "sns.heatmap(cor_binary)"
   ]
  },
  {
   "cell_type": "code",
   "execution_count": 121,
   "id": "fd7d9750",
   "metadata": {},
   "outputs": [
    {
     "data": {
      "text/plain": [
       "<AxesSubplot:>"
      ]
     },
     "execution_count": 121,
     "metadata": {},
     "output_type": "execute_result"
    },
    {
     "data": {
      "image/png": "[encoded data removed]",
      "text/plain": [
       "<Figure size 864x432 with 2 Axes>"
      ]
     },
     "metadata": {
      "needs_background": "light"
     },
     "output_type": "display_data"
    }
   ],
   "source": [
    "corr = df.corr()\n",
    "\n",
    "plt.figure(figsize=(12, 6))\n",
    "sns.heatmap(corr)"
   ]
  },
  {
   "cell_type": "code",
   "execution_count": 89,
   "id": "3c2cf50b",
   "metadata": {},
   "outputs": [
    {
     "data": {
      "text/plain": [
       "Index(['GENDER', 'AGE', 'SMOKING', 'YELLOW_FINGERS', 'ANXIETY',\n",
       "       'PEER_PRESSURE', 'CHRONIC_DISEASE', 'FATIGUE', 'ALLERGY', 'WHEEZING',\n",
       "       'ALCOHOL_CONSUMING', 'COUGHING', 'SHORTNESS_OF_BREATH',\n",
       "       'SWALLOWING_DIFFICULTY', 'CHEST_PAIN', 'LUNG_CANCER'],\n",
       "      dtype='object')"
      ]
     },
     "execution_count": 89,
     "metadata": {},
     "output_type": "execute_result"
    }
   ],
   "source": [
    "df.columns"
   ]
  },
  {
   "cell_type": "code",
   "execution_count": 87,
   "id": "1b8ff63e",
   "metadata": {},
   "outputs": [
    {
     "data": {
      "text/plain": [
       "SMOKING\n",
       "0    756\n",
       "1    762\n",
       "Name: LUNG_CANCER, dtype: int64"
      ]
     },
     "execution_count": 87,
     "metadata": {},
     "output_type": "execute_result"
    }
   ],
   "source": [
    "df.groupby('SMOKING')['LUNG_CANCER'].sum()"
   ]
  },
  {
   "cell_type": "code",
   "execution_count": 91,
   "id": "a57f10ec",
   "metadata": {},
   "outputs": [
    {
     "data": {
      "text/plain": [
       "YELLOW_FINGERS\n",
       "0    790\n",
       "1    728\n",
       "Name: LUNG_CANCER, dtype: int64"
      ]
     },
     "execution_count": 91,
     "metadata": {},
     "output_type": "execute_result"
    }
   ],
   "source": [
    "df.groupby('YELLOW_FINGERS')['LUNG_CANCER'].sum()"
   ]
  },
  {
   "cell_type": "code",
   "execution_count": 93,
   "id": "1b3476f9",
   "metadata": {},
   "outputs": [
    {
     "data": {
      "text/plain": [
       "SHORTNESS_OF_BREATH\n",
       "0    739\n",
       "1    779\n",
       "Name: LUNG_CANCER, dtype: int64"
      ]
     },
     "execution_count": 93,
     "metadata": {},
     "output_type": "execute_result"
    }
   ],
   "source": [
    "df.groupby('SHORTNESS_OF_BREATH')['LUNG_CANCER'].sum()"
   ]
  },
  {
   "cell_type": "code",
   "execution_count": 110,
   "id": "36aec5b8",
   "metadata": {},
   "outputs": [],
   "source": [
    "from scipy.stats import chi2_contingency, ttest_ind"
   ]
  },
  {
   "cell_type": "code",
   "execution_count": 96,
   "id": "dcc95068",
   "metadata": {},
   "outputs": [
    {
     "data": {
      "text/html": [
       "<div>\n",
       "<style scoped>\n",
       "    .dataframe tbody tr th:only-of-type {\n",
       "        vertical-align: middle;\n",
       "    }\n",
       "\n",
       "    .dataframe tbody tr th {\n",
       "        vertical-align: top;\n",
       "    }\n",
       "\n",
       "    .dataframe thead th {\n",
       "        text-align: right;\n",
       "    }\n",
       "</style>\n",
       "<table border=\"1\" class=\"dataframe\">\n",
       "  <thead>\n",
       "    <tr style=\"text-align: right;\">\n",
       "      <th>LUNG_CANCER</th>\n",
       "      <th>0</th>\n",
       "      <th>1</th>\n",
       "    </tr>\n",
       "    <tr>\n",
       "      <th>SMOKING</th>\n",
       "      <th></th>\n",
       "      <th></th>\n",
       "    </tr>\n",
       "  </thead>\n",
       "  <tbody>\n",
       "    <tr>\n",
       "      <th>0</th>\n",
       "      <td>717</td>\n",
       "      <td>756</td>\n",
       "    </tr>\n",
       "    <tr>\n",
       "      <th>1</th>\n",
       "      <td>765</td>\n",
       "      <td>762</td>\n",
       "    </tr>\n",
       "  </tbody>\n",
       "</table>\n",
       "</div>"
      ],
      "text/plain": [
       "LUNG_CANCER    0    1\n",
       "SMOKING              \n",
       "0            717  756\n",
       "1            765  762"
      ]
     },
     "execution_count": 96,
     "metadata": {},
     "output_type": "execute_result"
    }
   ],
   "source": [
    "Xtab = pd.crosstab(df['SMOKING'], df['LUNG_CANCER'])\n",
    "Xtab"
   ]
  },
  {
   "cell_type": "code",
   "execution_count": 98,
   "id": "e4e5b9e5",
   "metadata": {},
   "outputs": [
    {
     "name": "stdout",
     "output_type": "stream",
     "text": [
      "0.5510111488430195 0.45790483338496013\n"
     ]
    }
   ],
   "source": [
    "chi2, pval, doff, expected = chi2_contingency(Xtab)\n",
    "print(chi2, pval)"
   ]
  },
  {
   "cell_type": "code",
   "execution_count": 99,
   "id": "3dabe7af",
   "metadata": {},
   "outputs": [],
   "source": [
    "chi2_ = []\n",
    "pval_ = []\n",
    "\n",
    "for col in symptoms:\n",
    "    Xtab = pd.crosstab(df[col], df['LUNG_CANCER'])\n",
    "    chi2, pval, doff, expected = chi2_contingency(Xtab)\n",
    "    chi2_.append(chi2)\n",
    "    pval_.append(pval)"
   ]
  },
  {
   "cell_type": "code",
   "execution_count": 103,
   "id": "603593e1",
   "metadata": {},
   "outputs": [
    {
     "data": {
      "text/html": [
       "<div>\n",
       "<style scoped>\n",
       "    .dataframe tbody tr th:only-of-type {\n",
       "        vertical-align: middle;\n",
       "    }\n",
       "\n",
       "    .dataframe tbody tr th {\n",
       "        vertical-align: top;\n",
       "    }\n",
       "\n",
       "    .dataframe thead th {\n",
       "        text-align: right;\n",
       "    }\n",
       "</style>\n",
       "<table border=\"1\" class=\"dataframe\">\n",
       "  <thead>\n",
       "    <tr style=\"text-align: right;\">\n",
       "      <th></th>\n",
       "      <th>chi2</th>\n",
       "      <th>pval</th>\n",
       "    </tr>\n",
       "  </thead>\n",
       "  <tbody>\n",
       "    <tr>\n",
       "      <th>SMOKING</th>\n",
       "      <td>0.551011</td>\n",
       "      <td>0.457905</td>\n",
       "    </tr>\n",
       "    <tr>\n",
       "      <th>YELLOW_FINGERS</th>\n",
       "      <td>0.456560</td>\n",
       "      <td>0.499236</td>\n",
       "    </tr>\n",
       "    <tr>\n",
       "      <th>ANXIETY</th>\n",
       "      <td>0.576132</td>\n",
       "      <td>0.447832</td>\n",
       "    </tr>\n",
       "    <tr>\n",
       "      <th>PEER_PRESSURE</th>\n",
       "      <td>1.724801</td>\n",
       "      <td>0.189076</td>\n",
       "    </tr>\n",
       "    <tr>\n",
       "      <th>CHRONIC_DISEASE</th>\n",
       "      <td>0.274629</td>\n",
       "      <td>0.600243</td>\n",
       "    </tr>\n",
       "    <tr>\n",
       "      <th>FATIGUE</th>\n",
       "      <td>0.007506</td>\n",
       "      <td>0.930959</td>\n",
       "    </tr>\n",
       "    <tr>\n",
       "      <th>ALLERGY</th>\n",
       "      <td>0.102350</td>\n",
       "      <td>0.749028</td>\n",
       "    </tr>\n",
       "    <tr>\n",
       "      <th>WHEEZING</th>\n",
       "      <td>4.318165</td>\n",
       "      <td>0.037708</td>\n",
       "    </tr>\n",
       "    <tr>\n",
       "      <th>ALCOHOL_CONSUMING</th>\n",
       "      <td>2.663874</td>\n",
       "      <td>0.102650</td>\n",
       "    </tr>\n",
       "    <tr>\n",
       "      <th>COUGHING</th>\n",
       "      <td>3.153243</td>\n",
       "      <td>0.075776</td>\n",
       "    </tr>\n",
       "    <tr>\n",
       "      <th>SHORTNESS_OF_BREATH</th>\n",
       "      <td>0.008799</td>\n",
       "      <td>0.925265</td>\n",
       "    </tr>\n",
       "    <tr>\n",
       "      <th>SWALLOWING_DIFFICULTY</th>\n",
       "      <td>0.180384</td>\n",
       "      <td>0.671044</td>\n",
       "    </tr>\n",
       "    <tr>\n",
       "      <th>CHEST_PAIN</th>\n",
       "      <td>0.012389</td>\n",
       "      <td>0.911374</td>\n",
       "    </tr>\n",
       "  </tbody>\n",
       "</table>\n",
       "</div>"
      ],
      "text/plain": [
       "                           chi2      pval\n",
       "SMOKING                0.551011  0.457905\n",
       "YELLOW_FINGERS         0.456560  0.499236\n",
       "ANXIETY                0.576132  0.447832\n",
       "PEER_PRESSURE          1.724801  0.189076\n",
       "CHRONIC_DISEASE        0.274629  0.600243\n",
       "FATIGUE                0.007506  0.930959\n",
       "ALLERGY                0.102350  0.749028\n",
       "WHEEZING               4.318165  0.037708\n",
       "ALCOHOL_CONSUMING      2.663874  0.102650\n",
       "COUGHING               3.153243  0.075776\n",
       "SHORTNESS_OF_BREATH    0.008799  0.925265\n",
       "SWALLOWING_DIFFICULTY  0.180384  0.671044\n",
       "CHEST_PAIN             0.012389  0.911374"
      ]
     },
     "execution_count": 103,
     "metadata": {},
     "output_type": "execute_result"
    }
   ],
   "source": [
    "assoc_dict = {'chi2': chi2_, 'pval': pval_}\n",
    "associations = pd.DataFrame(assoc_dict, index=symptoms)\n",
    "associations"
   ]
  },
  {
   "cell_type": "code",
   "execution_count": 112,
   "id": "db26c3cf",
   "metadata": {},
   "outputs": [
    {
     "data": {
      "text/html": [
       "<div>\n",
       "<style scoped>\n",
       "    .dataframe tbody tr th:only-of-type {\n",
       "        vertical-align: middle;\n",
       "    }\n",
       "\n",
       "    .dataframe tbody tr th {\n",
       "        vertical-align: top;\n",
       "    }\n",
       "\n",
       "    .dataframe thead th {\n",
       "        text-align: right;\n",
       "    }\n",
       "</style>\n",
       "<table border=\"1\" class=\"dataframe\">\n",
       "  <thead>\n",
       "    <tr style=\"text-align: right;\">\n",
       "      <th></th>\n",
       "      <th>chi2</th>\n",
       "      <th>pval</th>\n",
       "    </tr>\n",
       "  </thead>\n",
       "  <tbody>\n",
       "    <tr>\n",
       "      <th>WHEEZING</th>\n",
       "      <td>4.318165</td>\n",
       "      <td>0.037708</td>\n",
       "    </tr>\n",
       "  </tbody>\n",
       "</table>\n",
       "</div>"
      ],
      "text/plain": [
       "              chi2      pval\n",
       "WHEEZING  4.318165  0.037708"
      ]
     },
     "execution_count": 112,
     "metadata": {},
     "output_type": "execute_result"
    }
   ],
   "source": [
    "# The only significant association for LUNG CANCER is WHEEZING\n",
    "\n",
    "associations[associations.pval < 0.05]"
   ]
  },
  {
   "cell_type": "code",
   "execution_count": 113,
   "id": "b29b1b55",
   "metadata": {},
   "outputs": [
    {
     "name": "stdout",
     "output_type": "stream",
     "text": [
      "0.7158403950228966 0.3975117338177119\n"
     ]
    }
   ],
   "source": [
    "# Testing for association with the feature GENDER. Didn't show significant association.\n",
    "\n",
    "Xtab_gender = pd.crosstab(df['GENDER'], df['LUNG_CANCER'])\n",
    "chi2, pval, doff, expected = chi2_contingency(Xtab_gender)\n",
    "print(chi2, pval)"
   ]
  },
  {
   "cell_type": "code",
   "execution_count": 111,
   "id": "f8e9560c",
   "metadata": {},
   "outputs": [
    {
     "data": {
      "text/plain": [
       "0.050482020977839506"
      ]
     },
     "execution_count": 111,
     "metadata": {},
     "output_type": "execute_result"
    }
   ],
   "source": [
    "# Testing for association with the feature AGE. It seems to be just over the significance threshold of 0.05.\n",
    "\n",
    "lung_cancer = df[df['LUNG_CANCER'] == 1]['AGE']\n",
    "not_lung_cancer = df[df['LUNG_CANCER'] == 0]['AGE']\n",
    "\n",
    "tstat, pval = ttest_ind(lung_cancer, not_lung_cancer)\n",
    "pval"
   ]
  },
  {
   "cell_type": "markdown",
   "id": "1105e30f",
   "metadata": {},
   "source": [
    "## Model Fitting"
   ]
  },
  {
   "cell_type": "markdown",
   "id": "315eb31b",
   "metadata": {},
   "source": [
    "Given that out of 13 binary variables I plan to use in the model, only one showed significant association with the target variable, I'm planning on fitting the model and feature engeneering based on the gini importance."
   ]
  },
  {
   "cell_type": "code",
   "execution_count": 123,
   "id": "2c46e3e2",
   "metadata": {},
   "outputs": [],
   "source": [
    "# GENDER feature transformation (1 for 'F', 0 for 'M')\n",
    "\n",
    "binary_gender = lambda x: 1 if x == 'F' else 0\n",
    "\n",
    "df['GENDER'] = df['GENDER'].apply(binary_gender)"
   ]
  },
  {
   "cell_type": "code",
   "execution_count": 124,
   "id": "1146006d",
   "metadata": {},
   "outputs": [],
   "source": [
    "from sklearn.model_selection import train_test_split\n",
    "\n",
    "X = df.drop(columns='LUNG_CANCER', axis=1)\n",
    "y = df['LUNG_CANCER']\n",
    "\n",
    "X_train, X_test, y_train, y_test = train_test_split(X, y, test_size=0.2, random_state=42)"
   ]
  },
  {
   "cell_type": "code",
   "execution_count": 125,
   "id": "e77dbd79",
   "metadata": {},
   "outputs": [
    {
     "data": {
      "text/plain": [
       "DecisionTreeClassifier()"
      ]
     },
     "execution_count": 125,
     "metadata": {},
     "output_type": "execute_result"
    }
   ],
   "source": [
    "from sklearn.tree import DecisionTreeClassifier\n",
    "\n",
    "dtree = DecisionTreeClassifier()\n",
    "dtree.fit(X_train, y_train)"
   ]
  },
  {
   "cell_type": "code",
   "execution_count": 127,
   "id": "90e592b7",
   "metadata": {},
   "outputs": [
    {
     "data": {
      "text/plain": [
       "accuracy     0.999583\n",
       "recall       0.999180\n",
       "precision    1.000000\n",
       "f1           0.999590\n",
       "dtype: float64"
      ]
     },
     "execution_count": 127,
     "metadata": {},
     "output_type": "execute_result"
    }
   ],
   "source": [
    "from sklearn.metrics import accuracy_score, recall_score, precision_score, f1_score\n",
    "\n",
    "y_train_pred = dtree.predict(X_train)\n",
    "\n",
    "accuracy = accuracy_score(y_train, y_train_pred)\n",
    "recall = recall_score(y_train, y_train_pred)\n",
    "precision = precision_score(y_train, y_train_pred)\n",
    "f1 = f1_score(y_train, y_train_pred)\n",
    "\n",
    "scores_dict = {'accuracy': accuracy, 'recall': recall, 'precision': precision, 'f1': f1}\n",
    "\n",
    "scores_train = pd.Series(scores_dict)\n",
    "scores_train"
   ]
  },
  {
   "cell_type": "code",
   "execution_count": 129,
   "id": "4cb70651",
   "metadata": {},
   "outputs": [
    {
     "data": {
      "text/plain": [
       "accuracy     0.505000\n",
       "recall       0.496644\n",
       "precision    0.501695\n",
       "f1           0.499157\n",
       "dtype: float64"
      ]
     },
     "execution_count": 129,
     "metadata": {},
     "output_type": "execute_result"
    }
   ],
   "source": [
    "# The model shows to have a lot of variance\n",
    "\n",
    "y_pred = dtree.predict(X_test)\n",
    "\n",
    "accuracy = accuracy_score(y_test, y_pred)\n",
    "recall = recall_score(y_test, y_pred)\n",
    "precision = precision_score(y_test, y_pred)\n",
    "f1 = f1_score(y_test, y_pred)\n",
    "\n",
    "scores_dict = {'accuracy': accuracy, 'recall': recall, 'precision': precision, 'f1': f1}\n",
    "\n",
    "scores_test = pd.Series(scores_dict)\n",
    "scores_test"
   ]
  },
  {
   "cell_type": "code",
   "execution_count": 136,
   "id": "2adc65db",
   "metadata": {},
   "outputs": [
    {
     "data": {
      "text/plain": [
       "AGE                      0.308552\n",
       "GENDER                   0.069230\n",
       "SHORTNESS_OF_BREATH      0.063278\n",
       "ALCOHOL_CONSUMING        0.062497\n",
       "YELLOW_FINGERS           0.057841\n",
       "SMOKING                  0.053907\n",
       "PEER_PRESSURE            0.053583\n",
       "SWALLOWING_DIFFICULTY    0.052032\n",
       "CHRONIC_DISEASE          0.050301\n",
       "ANXIETY                  0.050267\n",
       "ALLERGY                  0.048873\n",
       "FATIGUE                  0.044573\n",
       "WHEEZING                 0.037326\n",
       "CHEST_PAIN               0.027370\n",
       "COUGHING                 0.020370\n",
       "dtype: float64"
      ]
     },
     "execution_count": 136,
     "metadata": {},
     "output_type": "execute_result"
    }
   ],
   "source": [
    "# Analizing feature importances. Interestingly enough, WHEEZING has one of the lowest feature importances\n",
    "\n",
    "importances = pd.Series(dtree.feature_importances_, index=X.columns)\n",
    "importances = importances.sort_values(ascending=False)\n",
    "importances"
   ]
  },
  {
   "cell_type": "code",
   "execution_count": 140,
   "id": "703df80f",
   "metadata": {},
   "outputs": [],
   "source": [
    "X = df[importances[importances > 0.050301].index]\n",
    "y = df['LUNG_CANCER']\n",
    "\n",
    "X_train, X_test, y_train, y_test = train_test_split(X, y, test_size=0.2, random_state=42)"
   ]
  },
  {
   "cell_type": "code",
   "execution_count": 141,
   "id": "8aeb6d4c",
   "metadata": {},
   "outputs": [
    {
     "data": {
      "text/plain": [
       "DecisionTreeClassifier()"
      ]
     },
     "execution_count": 141,
     "metadata": {},
     "output_type": "execute_result"
    }
   ],
   "source": [
    "dtree2 = DecisionTreeClassifier()\n",
    "dtree2.fit(X_train, y_train)"
   ]
  },
  {
   "cell_type": "code",
   "execution_count": 144,
   "id": "d646499d",
   "metadata": {},
   "outputs": [
    {
     "data": {
      "text/plain": [
       "accuracy     0.496667\n",
       "recall       0.510067\n",
       "precision    0.493506\n",
       "f1           0.501650\n",
       "dtype: float64"
      ]
     },
     "execution_count": 144,
     "metadata": {},
     "output_type": "execute_result"
    }
   ],
   "source": [
    "# Taking out the features ANXIETY, ALLERGY, FATIGUE, WHEEZING, CHEST_PAIN and COUGHING yeilds almost the same performance of the model\n",
    "\n",
    "y_pred = dtree2.predict(X_test)\n",
    "\n",
    "accuracy = accuracy_score(y_test, y_pred)\n",
    "recall = recall_score(y_test, y_pred)\n",
    "precision = precision_score(y_test, y_pred)\n",
    "f1 = f1_score(y_test, y_pred)\n",
    "\n",
    "scores_dict = {'accuracy': accuracy, 'recall': recall, 'precision': precision, 'f1': f1}\n",
    "\n",
    "scores_test = pd.Series(scores_dict)\n",
    "scores_test"
   ]
  },
  {
   "cell_type": "code",
   "execution_count": 152,
   "id": "e147c6d6",
   "metadata": {},
   "outputs": [
    {
     "data": {
      "text/plain": [
       "GridSearchCV(cv=5, estimator=DecisionTreeClassifier(),\n",
       "             param_grid={'ccp_alpha': [0.0, 0.01, 0.1, 1.0],\n",
       "                         'max_depth': [2, 3, 4, 5, 6, None],\n",
       "                         'min_samples_leaf': [1, 3, 5, 8, 10],\n",
       "                         'min_samples_split': [2, 5, 10, 15, 20]},\n",
       "             scoring='f1_macro')"
      ]
     },
     "execution_count": 152,
     "metadata": {},
     "output_type": "execute_result"
    }
   ],
   "source": [
    "# Tuning the model's hyperparameters\n",
    "\n",
    "from sklearn.model_selection import GridSearchCV\n",
    "\n",
    "param_grid = {'max_depth': [2, 3, 4, 5, 6, None], 'min_samples_split': [2, 5, 10, 15, 20], 'min_samples_leaf': [1, 3, 5, 8, 10], 'ccp_alpha': [0.0, 0.01, 0.1, 1.0]}\n",
    "\n",
    "search = GridSearchCV(estimator=DecisionTreeClassifier(), param_grid=param_grid, scoring='f1_macro', cv=5)\n",
    "search.fit(X, y)"
   ]
  },
  {
   "cell_type": "code",
   "execution_count": 154,
   "id": "07994ba2",
   "metadata": {},
   "outputs": [
    {
     "name": "stdout",
     "output_type": "stream",
     "text": [
      "{'ccp_alpha': 0.0, 'max_depth': 5, 'min_samples_leaf': 1, 'min_samples_split': 2} 0.5071487161437453\n"
     ]
    }
   ],
   "source": [
    "print(search.best_params_, search.best_score_)"
   ]
  },
  {
   "cell_type": "code",
   "execution_count": 156,
   "id": "81a3519c",
   "metadata": {},
   "outputs": [
    {
     "data": {
      "text/plain": [
       "DecisionTreeClassifier(max_depth=5)"
      ]
     },
     "execution_count": 156,
     "metadata": {},
     "output_type": "execute_result"
    }
   ],
   "source": [
    "dtree3 = DecisionTreeClassifier(ccp_alpha=0.0, max_depth=5, min_samples_leaf=1, min_samples_split=2)\n",
    "dtree3.fit(X_train, y_train)"
   ]
  },
  {
   "cell_type": "code",
   "execution_count": 158,
   "id": "75fb442e",
   "metadata": {},
   "outputs": [
    {
     "data": {
      "text/plain": [
       "accuracy     0.496667\n",
       "recall       0.510067\n",
       "precision    0.493506\n",
       "f1           0.501650\n",
       "dtype: float64"
      ]
     },
     "execution_count": 158,
     "metadata": {},
     "output_type": "execute_result"
    }
   ],
   "source": [
    "# The results stay practically the same after the Grid Search\n",
    "\n",
    "y_pred = dtree2.predict(X_test)\n",
    "\n",
    "accuracy = accuracy_score(y_test, y_pred)\n",
    "recall = recall_score(y_test, y_pred)\n",
    "precision = precision_score(y_test, y_pred)\n",
    "f1 = f1_score(y_test, y_pred)\n",
    "\n",
    "scores_dict = {'accuracy': accuracy, 'recall': recall, 'precision': precision, 'f1': f1}\n",
    "\n",
    "scores_test = pd.Series(scores_dict)\n",
    "scores_test"
   ]
  },
  {
   "cell_type": "markdown",
   "id": "51f49a43",
   "metadata": {},
   "source": [
    "# Conclusion\n",
    "\n",
    "The features in the dataset don't seem to be appropriate features for predicting the target variable (LUNG_CANCER). Most of the features have weak associations to the target variable and, when grouped by any of the binary variables, the count of patients with lung cancer seems to be almost 50/50. Therefore, even after feature selection and parameter tuning, the model still has a poor performance."
   ]
  }
 ],
 "metadata": {
  "kernelspec": {
   "display_name": "Python 3",
   "language": "python",
   "name": "python3"
  },
  "language_info": {
   "codemirror_mode": {
    "name": "ipython",
    "version": 3
   },
   "file_extension": ".py",
   "mimetype": "text/x-python",
   "name": "python",
   "nbconvert_exporter": "python",
   "pygments_lexer": "ipython3",
   "version": "3.8.8"
  }
 },
 "nbformat": 4,
 "nbformat_minor": 5
}
